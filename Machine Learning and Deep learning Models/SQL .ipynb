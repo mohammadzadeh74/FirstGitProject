{
 "cells": [
  {
   "cell_type": "code",
   "execution_count": 4,
   "metadata": {},
   "outputs": [],
   "source": [
    "import pymysql\n",
    "\n",
    "server = pymysql.connect(host= 'localhost', user= \"root\", passwd=\"Mohammad74\")"
   ]
  },
  {
   "cell_type": "code",
   "execution_count": 9,
   "metadata": {},
   "outputs": [
    {
     "data": {
      "text/plain": [
       "0"
      ]
     },
     "execution_count": 9,
     "metadata": {},
     "output_type": "execute_result"
    }
   ],
   "source": [
    "cursor = server.cursor()\n",
    "sql = \"CREATE DATABASE IF NOT EXISTS test_python_connection\"\n",
    "cursor.execute(sql)\n",
    "sql = \"USE test_python_connection\"\n",
    "cursor.execute(sql)"
   ]
  },
  {
   "cell_type": "code",
   "execution_count": 21,
   "metadata": {},
   "outputs": [
    {
     "data": {
      "text/plain": [
       "0"
      ]
     },
     "execution_count": 21,
     "metadata": {},
     "output_type": "execute_result"
    }
   ],
   "source": [
    "sql = ''' Create TABLE IF NOT EXISTS owners(id integer NOT NULL AUTO_INCREMENT,\n",
    "                                            name varchar(30) NOT NULL,\n",
    "                                            gender varchar(7),\n",
    "                                            phone varchar(10),\n",
    "                                            PRIMARY KEY(id));'''\n",
    "cursor.execute(sql)\n"
   ]
  },
  {
   "cell_type": "code",
   "execution_count": 29,
   "metadata": {},
   "outputs": [
    {
     "data": {
      "text/plain": [
       "0"
      ]
     },
     "execution_count": 29,
     "metadata": {},
     "output_type": "execute_result"
    }
   ],
   "source": [
    "sql = \"\"\"CREATE TABLE IF NOT EXISTS pets(pet_id integer NOT NULL AUTO_INCREMENT,\n",
    "                                            owner_id integer,\n",
    "                                            name varchar(30) NOT NULL,\n",
    "                                            gender varchar(7),\n",
    "                                            species varchar(20),\n",
    "                                            color varchar(10),\n",
    "                                            age integer,\n",
    "                                            PRIMARY KEY(pet_id),\n",
    "                                            FOREIGN KEY(owner_id) REFERENCES owners(id));\"\"\"\n",
    "cursor.execute(sql)\n"
   ]
  },
  {
   "cell_type": "code",
   "execution_count": 32,
   "metadata": {},
   "outputs": [
    {
     "data": {
      "text/plain": [
       "(('owners',), ('pets',))"
      ]
     },
     "execution_count": 32,
     "metadata": {},
     "output_type": "execute_result"
    }
   ],
   "source": [
    "sql = 'show tables'\n",
    "cursor.execute(sql)\n",
    "cursor.fetchall()"
   ]
  },
  {
   "cell_type": "code",
   "execution_count": 53,
   "metadata": {},
   "outputs": [
    {
     "name": "stdout",
     "output_type": "stream",
     "text": [
      "((17, 'David', 'Male', '111-11111\\n'), (18, 'Rebeca', 'Female', '222-22222'))\n",
      "((1, None, 'hulk', 'male', 'golden', 'retriever', 0), (2, None, 'princess', 'female', 'corgrie', 'brown', 2))\n"
     ]
    }
   ],
   "source": [
    "def load_owners(cursor):\n",
    "    owners_data = open('owners.txt')\n",
    "    for rowline in owners_data:\n",
    "        row = rowline.split(',')\n",
    "        sql = \"INSERT INTO owners(name,gender,phone) VALUES('{}','{}','{}');\".format(row[0],row[1],row[2])\n",
    "        cursor.execute(sql)\n",
    "    cursor.execute('SELECT * from owners;')\n",
    "    print(cursor.fetchall())\n",
    "    \n",
    "def load_pets(cursor):\n",
    "    pets_data = open('pets.txt')\n",
    "    for rowline in pets_data:\n",
    "        row = rowline.split(',')\n",
    "        cursor.execute(\"INSERT INTO pets(owner_id,name,gender,species,color,age) VALUES((SELECT id FROM owners WHERE id = '{}'),'{}','{}','{}','{}','{}');\" .format(row[0],row[1],row[2],row[3],row[4],row[5]))\n",
    "    cursor.execute('SELECT * from pets;')\n",
    "    print(cursor.fetchall())\n",
    "        \n",
    "if __name__ == '__main__':\n",
    "    db = pymysql.connect(host= 'localhost', user= \"root\", passwd=\"Mohammad74\", db = 'test_python_connection')\n",
    "    cursor = db.cursor()\n",
    "    load_owners(cursor)\n",
    "    load_pets(cursor)\n",
    "    db.commit()\n",
    "    db.close()"
   ]
  },
  {
   "cell_type": "code",
   "execution_count": 101,
   "metadata": {},
   "outputs": [],
   "source": [
    "class Datab():\n",
    "    def __init__(self,databaseName,servername,username,password):\n",
    "        self.n = databaseName\n",
    "        db = pymysql.connect(host = servername, user = username, passwd = password)\n",
    "        cursor = db.cursor()\n",
    "        self.cursor = cursor\n",
    "        cursor.execute(\"CREATE DATABASE IF NOT EXISTS {}\".format(self.n))\n",
    "        cursor.execute(\"USE {}\".format(self.n))\n",
    "        \n",
    "    def addTable(self,tablename,**columns):\n",
    "        sql = \"CREATE TABLE IF NOT EXISTS \"+tablename+\" (\"\n",
    "        for c,t in columns.items():\n",
    "            sql+= \"%s %s, \"%(c,t)\n",
    "        sql = sql[:-2]+\");\"\n",
    "        self.cursor.execute(sql)\n",
    "    \n",
    "    def addElement (self, tablename, **values):\n",
    "        sql = \"INSERT INTO \"+tablename+\" (\"\n",
    "        columns = []\n",
    "        value = []\n",
    "        for k,v in values.items():\n",
    "            columns.append(k)\n",
    "            value.append(v)\n",
    "                \n",
    "        for i in columns:\n",
    "            sql+= \"%s, \" %i\n",
    "            \n",
    "        sql = sql[:-2]+') VALUES ('\n",
    "            \n",
    "        for v in value:\n",
    "            sql+= \"'%s', \" %v\n",
    "            \n",
    "        sql = sql[:-2] + \");\"    \n",
    "        self.cursor.execute(sql)\n",
    "            \n",
    "    def viewTable (self,tabelname):\n",
    "        self.cursor.execute(\"SELECT * FROM %s\" %tabelname)\n",
    "        print (self.cursor.fetchall())\n",
    "            \n",
    "        "
   ]
  },
  {
   "cell_type": "code",
   "execution_count": 102,
   "metadata": {},
   "outputs": [],
   "source": [
    "newdb = Datab('test_programing_class','localhost','root','Mohammad74')"
   ]
  },
  {
   "cell_type": "code",
   "execution_count": 103,
   "metadata": {},
   "outputs": [],
   "source": [
    "newdb.addTable(\"newTable\",Id = \"int NOT NULL AUTO_INCREMENT PRIMARY KEY\", FIRST = 'varchar(40)', Last = 'varchar(40)')\n"
   ]
  },
  {
   "cell_type": "code",
   "execution_count": 105,
   "metadata": {},
   "outputs": [],
   "source": [
    "newdb.addElement('newTable', First = 'David', Last = 'Baker')\n",
    "newdb.addElement('newTable', First = 'creative', Last = 'school')"
   ]
  },
  {
   "cell_type": "code",
   "execution_count": null,
   "metadata": {},
   "outputs": [],
   "source": []
  }
 ],
 "metadata": {
  "kernelspec": {
   "display_name": "Python 3",
   "language": "python",
   "name": "python3"
  },
  "language_info": {
   "codemirror_mode": {
    "name": "ipython",
    "version": 3
   },
   "file_extension": ".py",
   "mimetype": "text/x-python",
   "name": "python",
   "nbconvert_exporter": "python",
   "pygments_lexer": "ipython3",
   "version": "3.7.3"
  }
 },
 "nbformat": 4,
 "nbformat_minor": 2
}
