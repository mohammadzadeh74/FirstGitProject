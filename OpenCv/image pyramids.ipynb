{
 "cells": [
  {
   "cell_type": "code",
   "execution_count": 1,
   "metadata": {},
   "outputs": [],
   "source": [
    "import cv2 as cv\n",
    "import numpy as np\n",
    "from matplotlib import pyplot as plt"
   ]
  },
  {
   "cell_type": "code",
   "execution_count": 7,
   "metadata": {},
   "outputs": [],
   "source": [
    "\n",
    "img = cv.imread('lena.jpg')\n",
    "layer = img.copy()\n",
    "gp = [layer]\n",
    "\n",
    "for i in range(6):\n",
    "    layer = cv.pyrDown(layer)\n",
    "    gp.append(layer)\n",
    "#     cv.imshow(str(i), layer)\n",
    "\n",
    "layer = gp[5]\n",
    "cv.imshow('upper level Gaussian Pyramid', layer)\n",
    "lp = [layer]\n",
    "\n",
    "for i in range(5, 0, -1):\n",
    "    gaussian_extended = cv.pyrUp(gp[i])\n",
    "    laplacian = cv.subtract(gp[i-1], gaussian_extended)\n",
    "    cv.imshow(str(i), laplacian)\n",
    "    \n",
    "cv.imshow('original image', img)\n",
    "cv.waitKey(0)\n",
    "\n",
    "\n",
    "    \n",
    "\n",
    "cv.destroyAllWindows()"
   ]
  },
  {
   "cell_type": "code",
   "execution_count": null,
   "metadata": {},
   "outputs": [],
   "source": []
  }
 ],
 "metadata": {
  "kernelspec": {
   "display_name": "Python 3",
   "language": "python",
   "name": "python3"
  },
  "language_info": {
   "codemirror_mode": {
    "name": "ipython",
    "version": 3
   },
   "file_extension": ".py",
   "mimetype": "text/x-python",
   "name": "python",
   "nbconvert_exporter": "python",
   "pygments_lexer": "ipython3",
   "version": "3.7.3"
  }
 },
 "nbformat": 4,
 "nbformat_minor": 2
}
