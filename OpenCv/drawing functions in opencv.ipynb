{
 "cells": [
  {
   "cell_type": "code",
   "execution_count": 22,
   "metadata": {},
   "outputs": [],
   "source": [
    "import cv2\n",
    "import numpy  as np "
   ]
  },
  {
   "cell_type": "code",
   "execution_count": 23,
   "metadata": {},
   "outputs": [],
   "source": [
    "# img = cv2.imread('lena.jpg', 1)\n",
    "\n",
    "img = np.zeros([512, 512,3], np.uint8)\n",
    "\n",
    "img =cv2.line(img, (0,0), (255,255), (255, 0, 0),  10)\n",
    "img =cv2.arrowedLine(img, (0,255), (255,255), (255, 0, 0),  10)\n",
    "\n",
    "img = cv2.rectangle(img, (384,0), (510,128), (0,0,255), 10)\n",
    "img = cv2.circle(img, (447,63), 63, (0,255,0), 5)\n",
    "font = cv2.FONT_HERSHEY_SIMPLEX\n",
    "img = cv2.putText(img, 'OpenCv', (10,500), font, 4, (255,255,255), 10, cv2.LINE_AA)\n",
    "cv2.imshow('image',img)\n",
    "\n",
    "\n",
    "\n",
    "k = cv2.waitKey(0)\n",
    "cv2.destroyAllWindows()"
   ]
  },
  {
   "cell_type": "code",
   "execution_count": null,
   "metadata": {},
   "outputs": [],
   "source": []
  }
 ],
 "metadata": {
  "kernelspec": {
   "display_name": "Python 3",
   "language": "python",
   "name": "python3"
  },
  "language_info": {
   "codemirror_mode": {
    "name": "ipython",
    "version": 3
   },
   "file_extension": ".py",
   "mimetype": "text/x-python",
   "name": "python",
   "nbconvert_exporter": "python",
   "pygments_lexer": "ipython3",
   "version": "3.7.3"
  }
 },
 "nbformat": 4,
 "nbformat_minor": 2
}
