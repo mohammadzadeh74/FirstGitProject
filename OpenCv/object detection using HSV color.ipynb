{
 "cells": [
  {
   "cell_type": "code",
   "execution_count": 1,
   "metadata": {},
   "outputs": [],
   "source": [
    "import cv2 as cv\n",
    "import numpy as np\n"
   ]
  },
  {
   "cell_type": "code",
   "execution_count": null,
   "metadata": {},
   "outputs": [],
   "source": [
    "def nothing(x):\n",
    "    pass\n",
    "\n",
    "cap = cv.VideoCapture(0)\n",
    "\n",
    "\n",
    "cv.namedWindow('Tracking')\n",
    "cv.createTrackbar('LH', 'Tracking', 0, 255, nothing)\n",
    "cv.createTrackbar('LS', 'Tracking', 0, 255, nothing)\n",
    "cv.createTrackbar('LV', 'Tracking', 0, 255, nothing)\n",
    "cv.createTrackbar('UH', 'Tracking', 255, 255, nothing)\n",
    "cv.createTrackbar('US', 'Tracking', 255, 255, nothing)\n",
    "cv.createTrackbar('UV', 'Tracking', 255, 255, nothing)\n",
    "\n",
    "\n",
    "while True :\n",
    "#     frame = cv.imread('smarties.png')\n",
    "    _, frame = cap.read()\n",
    "    hsv = cv.cvtColor(frame, cv.COLOR_BGR2HSV)\n",
    "    \n",
    "    l_h = cv.getTrackbarPos('LH', 'Tracking')\n",
    "    l_s = cv.getTrackbarPos('LS', 'Tracking')\n",
    "    l_v = cv.getTrackbarPos('LV', 'Tracking')\n",
    "    \n",
    "    \n",
    "    u_h = cv.getTrackbarPos('UH', 'Tracking')\n",
    "    u_s = cv.getTrackbarPos('US', 'Tracking')\n",
    "    u_v = cv.getTrackbarPos('UV', 'Tracking')\n",
    "    \n",
    "    \n",
    "    \n",
    "    l_b = np.array([l_h, l_s, l_v])\n",
    "    u_b = np.array([u_h, u_s, u_v])\n",
    "    \n",
    "    mask = cv.inRange(hsv, l_b, u_b)\n",
    "    \n",
    "    res = cv.bitwise_and(frame, frame, mask= mask)\n",
    "    \n",
    "    \n",
    "    cv.imshow('frame', frame)\n",
    "    cv.imshow('mask', mask)\n",
    "    cv.imshow('res', res)\n",
    "    key = cv.waitKey(1)\n",
    "    \n",
    "    if key == 27:\n",
    "        break\n",
    "        \n",
    "cap.release()\n",
    "cv.destroyAllWindows()\n"
   ]
  },
  {
   "cell_type": "code",
   "execution_count": null,
   "metadata": {},
   "outputs": [],
   "source": []
  }
 ],
 "metadata": {
  "kernelspec": {
   "display_name": "Python 3",
   "language": "python",
   "name": "python3"
  },
  "language_info": {
   "codemirror_mode": {
    "name": "ipython",
    "version": 3
   },
   "file_extension": ".py",
   "mimetype": "text/x-python",
   "name": "python",
   "nbconvert_exporter": "python",
   "pygments_lexer": "ipython3",
   "version": "3.7.3"
  }
 },
 "nbformat": 4,
 "nbformat_minor": 2
}
