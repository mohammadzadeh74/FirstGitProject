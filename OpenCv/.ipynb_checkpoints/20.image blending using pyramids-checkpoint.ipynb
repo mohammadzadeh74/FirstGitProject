{
 "cells": [
  {
   "cell_type": "code",
   "execution_count": 1,
   "metadata": {},
   "outputs": [],
   "source": [
    "import cv2 as cv\n",
    "import numpy as np\n",
    "from matplotlib import pyplot as plt"
   ]
  },
  {
   "cell_type": "code",
   "execution_count": 4,
   "metadata": {},
   "outputs": [
    {
     "name": "stdout",
     "output_type": "stream",
     "text": [
      "(512, 512, 3)\n",
      "(512, 512, 3)\n"
     ]
    }
   ],
   "source": [
    "\n",
    "apple = cv.imread('apple.jpg')\n",
    "orange = cv.imread('orange.jpg')\n",
    "\n",
    "apple_orange = np.hstack((apple[:, :256], orange[:,256:]))\n",
    "\n",
    "\n",
    "#genereate gussian pyramid for apple\n",
    "\n",
    "apple_copy = apple.copy()\n",
    "gp_apple = [apple_copy]\n",
    "\n",
    "for i in range(6):\n",
    "    apple_copy = cv.pyrDown(apple_copy)\n",
    "    gp_apple.append(apple_copy)\n",
    "    \n",
    "\n",
    "#genereate gussian pyramid for orange\n",
    "\n",
    "orange_copy = orange.copy()\n",
    "gp_orange = [orange_copy]\n",
    "\n",
    "for i in range(6):\n",
    "    orange_copy = cv.pyrDown(orange_copy)\n",
    "    gp_orange.append(orange_copy)\n",
    "    \n",
    "#genereate Laplacian pyramid for apple\n",
    "\n",
    "apple_copy = gp_apple[5]\n",
    "lp_apple = [apple_copy]\n",
    "\n",
    "for i in range(5, 0, -1):\n",
    "    gaussian_expanded = cv.pyrUp(gp_apple[i])\n",
    "    laplacian = cv.subtract(gp_apple[i-1], gaussian_expanded)\n",
    "    lp_apple.append(laplacian)\n",
    "\n",
    "#genereate Laplacian pyramid for orange\n",
    "\n",
    "orange_copy = gp_orange[5]\n",
    "lp_orange = [orange_copy]\n",
    "\n",
    "for i in range(5, 0, -1):\n",
    "    gaussian_expanded = cv.pyrUp(gp_orange[i])\n",
    "    laplacian = cv.subtract(gp_orange[i-1], gaussian_expanded)\n",
    "    lp_orange.append(laplacian)\n",
    "\n",
    "#now add left and right halves  of images in each level\n",
    "\n",
    "apple_orange_pyramid = []\n",
    "n= 0\n",
    "for apple_lap, orange_lap in zip(lp_apple, lp_orange):\n",
    "    n += 1\n",
    "    cols , rows, cha = apple_lap.shape\n",
    "    laplacian = np.hstack((apple_lap[:, 0:int(cols/2)], orange_lap[:, int(cols/2):]))\n",
    "    apple_orange_pyramid.append(laplacian)\n",
    "\n",
    "\n",
    "\n",
    "#now reconstruct \n",
    "\n",
    "apple_orange_reconstruct = apple_orange_pyramid[0]\n",
    "\n",
    "for i in range (1,6):\n",
    "    apple_orange_reconstruct = cv.pyrUp(apple_orange_reconstruct)\n",
    "    apple_orange_reconstruct = cv.add(apple_orange_pyramid[i], apple_orange_reconstruct)\n",
    "\n",
    "cv.imshow('apple', apple)\n",
    "cv.imshow('orange', orange)\n",
    "cv.imshow('apple_orange_reconstruct', apple_orange_reconstruct)    \n",
    "    \n",
    "print(orange.shape)\n",
    "print(apple.shape)\n",
    "\n",
    "cv.waitKey(0)\n",
    "cv.destroyAllWindows()"
   ]
  },
  {
   "cell_type": "code",
   "execution_count": null,
   "metadata": {},
   "outputs": [],
   "source": [
    "np.hsta"
   ]
  },
  {
   "cell_type": "code",
   "execution_count": null,
   "metadata": {},
   "outputs": [],
   "source": []
  }
 ],
 "metadata": {
  "kernelspec": {
   "display_name": "Python 3",
   "language": "python",
   "name": "python3"
  },
  "language_info": {
   "codemirror_mode": {
    "name": "ipython",
    "version": 3
   },
   "file_extension": ".py",
   "mimetype": "text/x-python",
   "name": "python",
   "nbconvert_exporter": "python",
   "pygments_lexer": "ipython3",
   "version": "3.7.3"
  }
 },
 "nbformat": 4,
 "nbformat_minor": 2
}
