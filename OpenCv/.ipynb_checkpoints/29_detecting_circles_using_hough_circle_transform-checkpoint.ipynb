{
 "cells": [
  {
   "cell_type": "code",
   "execution_count": 1,
   "metadata": {},
   "outputs": [],
   "source": [
    "import numpy as np\n",
    "import cv2 as cv"
   ]
  },
  {
   "cell_type": "code",
   "execution_count": 8,
   "metadata": {},
   "outputs": [
    {
     "name": "stdout",
     "output_type": "stream",
     "text": [
      "(1, 12, 3)\n",
      "[[[376  82  27]\n",
      "  [348 238  27]\n",
      "  [294 320  28]\n",
      "  [152 272  27]\n",
      "  [206 210  27]\n",
      "  [386 170  26]\n",
      "  [286 214  25]\n",
      "  [ 32 230  28]\n",
      "  [270 116  26]\n",
      "  [100 260  28]\n",
      "  [220 306  27]\n",
      "  [134 328  27]]]\n"
     ]
    }
   ],
   "source": [
    "img = cv.imread('smarties.png')\n",
    "output = img.copy()\n",
    "gray = cv.cvtColor(img, cv.COLOR_BGR2GRAY)\n",
    "gray = cv.medianBlur (gray, 5)\n",
    "circles = cv.HoughCircles(gray, cv.HOUGH_GRADIENT, 1, 20,\n",
    "                          param1 = 70, param2 = 40, minRadius = 0, maxRadius = 0)\n",
    "detected_circles = np.uint16(np.around(circles))\n",
    "\n",
    "print(detected_circles.shape)\n",
    "print(detected_circles)\n",
    "for (x, y, r) in detected_circles[0,:] :\n",
    "    cv.circle(output, (x,y), r, (0, 255, 0), 3)\n",
    "    cv.circle(output, (x,y), 2, (0, 255, 255), 3)\n",
    "    \n",
    "cv.imshow('output', output)\n",
    "cv.waitKey(0)\n",
    "cv.destroyAllWindows()"
   ]
  },
  {
   "cell_type": "code",
   "execution_count": null,
   "metadata": {},
   "outputs": [],
   "source": []
  },
  {
   "cell_type": "code",
   "execution_count": null,
   "metadata": {},
   "outputs": [],
   "source": []
  }
 ],
 "metadata": {
  "kernelspec": {
   "display_name": "Python 3",
   "language": "python",
   "name": "python3"
  },
  "language_info": {
   "codemirror_mode": {
    "name": "ipython",
    "version": 3
   },
   "file_extension": ".py",
   "mimetype": "text/x-python",
   "name": "python",
   "nbconvert_exporter": "python",
   "pygments_lexer": "ipython3",
   "version": "3.7.3"
  }
 },
 "nbformat": 4,
 "nbformat_minor": 2
}
