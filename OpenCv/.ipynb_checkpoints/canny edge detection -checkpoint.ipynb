{
 "cells": [
  {
   "cell_type": "code",
   "execution_count": 2,
   "metadata": {},
   "outputs": [],
   "source": [
    "import cv2 as cv\n",
    "import numpy as np\n",
    "from matplotlib import pyplot as plt"
   ]
  },
  {
   "cell_type": "code",
   "execution_count": 5,
   "metadata": {},
   "outputs": [],
   "source": [
    "def nothing(x):\n",
    "    pass\n",
    "\n",
    "\n",
    "\n",
    "cv.namedWindow('Tracking')\n",
    "cv.createTrackbar('th1', 'Tracking', 100, 255, nothing)\n",
    "cv.createTrackbar('th2', 'Tracking', 200, 255, nothing)\n",
    "\n",
    "while True:\n",
    "    img = cv.imread('lena.jpg', cv.IMREAD_GRAYSCALE)\n",
    "\n",
    "    th1 = cv.getTrackbarPos('th1','Tracking')\n",
    "    th2 = cv.getTrackbarPos('th2','Tracking')\n",
    "\n",
    "    canny = cv.Canny(img, th1, th2)\n",
    "    cv.imshow('image', canny)\n",
    "    key = cv.waitKey(1)\n",
    "    \n",
    "    if key == 27:\n",
    "        break\n",
    "        \n",
    "cv.destroyAllWindows()  \n",
    "\n",
    "\n",
    "\n"
   ]
  },
  {
   "cell_type": "code",
   "execution_count": null,
   "metadata": {},
   "outputs": [],
   "source": []
  }
 ],
 "metadata": {
  "kernelspec": {
   "display_name": "Python 3",
   "language": "python",
   "name": "python3"
  },
  "language_info": {
   "codemirror_mode": {
    "name": "ipython",
    "version": 3
   },
   "file_extension": ".py",
   "mimetype": "text/x-python",
   "name": "python",
   "nbconvert_exporter": "python",
   "pygments_lexer": "ipython3",
   "version": "3.7.3"
  }
 },
 "nbformat": 4,
 "nbformat_minor": 2
}
