{
 "cells": [
  {
   "cell_type": "code",
   "execution_count": 1,
   "metadata": {},
   "outputs": [],
   "source": [
    "import numpy as np\n",
    "import cv2 as cv"
   ]
  },
  {
   "cell_type": "code",
   "execution_count": 3,
   "metadata": {},
   "outputs": [],
   "source": [
    "cap = cv.VideoCapture('vtest.avi')\n",
    "\n",
    "#take first video\n",
    "ret, frame = cap.read()\n",
    "\n",
    "#setup initial location of window \n",
    "x, y, width, height = 300, 200, 100, 50\n",
    "track_window = (x, y, width, height)\n",
    "\n",
    "#set up the ROI for tracking\n",
    "roi = frame[y:y+height, x:x+width]\n",
    "hsv_roi = cv.cvtColor(roi, cv.COLOR_BGR2HSV)\n",
    "\n",
    "mask = cv.inRange(hsv_roi, np.array((0, 60, 32)), np.array((180, 255, 255)))\n",
    "roi_hist = cv.calcHist([hsv_roi], [0], mask, [180], [0,180])\n",
    "cv.normalize(roi_hist, roi_hist, 0, 255, cv.NORM_MINMAX)\n",
    "\n",
    "#Setup the termination criteria, either 10 iteration of move by at least 1 pt \n",
    "term_crit = (cv.TermCriteria_EPS | cv.TERM_CRITERIA_COUNT, 10, 1)\n",
    "cv.imshow('roi', roi)\n",
    "\n",
    "\n",
    "while True:\n",
    "    \n",
    "    ret, frame = cap.read()\n",
    "    if ret == True:\n",
    "        hsv = cv.cvtColor(frame, cv.COLOR_BGR2HSV)\n",
    "        dst = cv.calcBackProject([hsv], [0], roi_hist, [0, 180], 1)\n",
    "        \n",
    "        #APPLY  meanshift to get the new location \n",
    "        ret, track_window = cv.CamShift(dst, track_window, term_crit)\n",
    "        #Draw it on image\n",
    "        \n",
    "        pts = cv.boxPoints(ret)\n",
    "        pts = np.int0(pts)\n",
    "        final_image = cv.polylines(frame, [pts], True, (0, 255, 0), 2)\n",
    "#         x,y,w,h = track_window\n",
    "#         final_image = cv.rectangle(frame, (x,y), (x+w, y+h), 255, 3)\n",
    "        \n",
    "        cv.imshow('final_image', final_image)\n",
    "        cv.imshow('dst', dst)\n",
    "\n",
    "     \n",
    "    if cv.waitKey(40) == 27:\n",
    "         break\n",
    "    \n",
    "cap.release()\n",
    "cv.destroyAllWindows()"
   ]
  },
  {
   "cell_type": "code",
   "execution_count": null,
   "metadata": {},
   "outputs": [],
   "source": []
  },
  {
   "cell_type": "code",
   "execution_count": null,
   "metadata": {},
   "outputs": [],
   "source": []
  }
 ],
 "metadata": {
  "kernelspec": {
   "display_name": "Python 3",
   "language": "python",
   "name": "python3"
  },
  "language_info": {
   "codemirror_mode": {
    "name": "ipython",
    "version": 3
   },
   "file_extension": ".py",
   "mimetype": "text/x-python",
   "name": "python",
   "nbconvert_exporter": "python",
   "pygments_lexer": "ipython3",
   "version": "3.7.3"
  }
 },
 "nbformat": 4,
 "nbformat_minor": 2
}
