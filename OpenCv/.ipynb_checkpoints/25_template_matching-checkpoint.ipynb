{
 "cells": [
  {
   "cell_type": "code",
   "execution_count": 2,
   "metadata": {},
   "outputs": [],
   "source": [
    "import cv2 as cv\n",
    "import numpy as np\n",
    "from matplotlib import pyplot as plt"
   ]
  },
  {
   "cell_type": "code",
   "execution_count": 11,
   "metadata": {},
   "outputs": [
    {
     "name": "stdout",
     "output_type": "stream",
     "text": [
      "[[-0.35920063 -0.36567232 -0.3653769  ... -0.05476801 -0.02293818\n",
      "   0.01103516]\n",
      " [-0.34379962 -0.35297832 -0.354355   ... -0.08216855 -0.05442285\n",
      "  -0.02336705]\n",
      " [-0.32367197 -0.3351519  -0.33913946 ... -0.1091118  -0.08438523\n",
      "  -0.05497981]\n",
      " ...\n",
      " [ 0.2715462   0.27215683  0.28581852 ... -0.03809683 -0.05550637\n",
      "  -0.07346478]\n",
      " [ 0.2447637   0.22640134  0.24239323 ... -0.0007591  -0.01376371\n",
      "  -0.03730607]\n",
      " [ 0.20283253  0.18838269  0.19032595 ...  0.04031496  0.02937514\n",
      "   0.00869609]]\n",
      "(array([  0,   0,   0, ..., 297, 297, 297], dtype=int64), array([ 61,  62,  63, ..., 432, 433, 450], dtype=int64))\n"
     ]
    }
   ],
   "source": [
    "img = cv.imread('messi5.jpg')\n",
    "grey_img = cv.cvtColor(img, cv.COLOR_BGR2GRAY)\n",
    "template = cv.imread('messi_face.jpg', 0)\n",
    "\n",
    "w, h = template.shape[::-1]\n",
    "\n",
    "res = cv.matchTemplate(grey_img, template, cv.TM_CCOEFF_NORMED )\n",
    "print(res)\n",
    "\n",
    "threshold = 0.3 \n",
    "loc = np.where(res >= threshold)\n",
    "print(loc)\n",
    "\n",
    "for pt in zip(*loc[::-1]):\n",
    "    cv.rectangle(img, pt, (pt[0] + w, pt[1] + h), (0, 0, 255), 2)\n",
    "\n",
    "cv.imshow('img', img)\n",
    "\n",
    "cv.waitKey(0)\n",
    "cv.destroyAllWindows()"
   ]
  },
  {
   "cell_type": "code",
   "execution_count": 9,
   "metadata": {},
   "outputs": [
    {
     "data": {
      "text/plain": [
       "(45, 32)"
      ]
     },
     "execution_count": 9,
     "metadata": {},
     "output_type": "execute_result"
    }
   ],
   "source": [
    "template.shape"
   ]
  },
  {
   "cell_type": "code",
   "execution_count": null,
   "metadata": {},
   "outputs": [],
   "source": []
  }
 ],
 "metadata": {
  "kernelspec": {
   "display_name": "Python 3",
   "language": "python",
   "name": "python3"
  },
  "language_info": {
   "codemirror_mode": {
    "name": "ipython",
    "version": 3
   },
   "file_extension": ".py",
   "mimetype": "text/x-python",
   "name": "python",
   "nbconvert_exporter": "python",
   "pygments_lexer": "ipython3",
   "version": "3.7.3"
  }
 },
 "nbformat": 4,
 "nbformat_minor": 2
}
