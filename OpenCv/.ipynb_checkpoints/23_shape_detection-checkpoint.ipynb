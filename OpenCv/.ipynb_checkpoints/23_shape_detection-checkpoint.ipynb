{
 "cells": [
  {
   "cell_type": "code",
   "execution_count": 1,
   "metadata": {},
   "outputs": [],
   "source": [
    "import cv2 as cv\n",
    "import numpy as np\n",
    "from matplotlib import pyplot as plt"
   ]
  },
  {
   "cell_type": "code",
   "execution_count": 7,
   "metadata": {},
   "outputs": [
    {
     "name": "stdout",
     "output_type": "stream",
     "text": [
      "2.125\n",
      "1.0\n",
      "6.194444444444445\n",
      "1.0\n",
      "1.0\n"
     ]
    }
   ],
   "source": [
    "img = cv.imread('1.png')\n",
    "imgray = cv.cvtColor(img, cv.COLOR_BGR2GRAY)\n",
    "\n",
    "_, thresh = cv.threshold(imgray, 240, 255, cv.THRESH_BINARY)\n",
    "\n",
    "_, countours, __ = cv.findContours(thresh, cv.RETR_TREE, cv.CHAIN_APPROX_NONE)\n",
    "\n",
    "for countour in countours:\n",
    "    approx = cv.approxPolyDP(countour, 0.01 * cv.arcLength(countour, True), True)\n",
    "    cv.drawContours(img, [approx], 0, (0, 0, 0), 5)\n",
    "    x = approx.ravel()[0]\n",
    "    y = approx.ravel()[1] - 5\n",
    "    \n",
    "    if len(approx) == 3 :\n",
    "        cv.putText(img, \"Triangle\", (x, y), cv.FONT_HERSHEY_COMPLEX, 0.5, (0, 0, 0))\n",
    "        \n",
    "    elif len(approx) == 4 :\n",
    "        x1, y1, w, h = cv.boundingRect(approx)\n",
    "        aspectRatio = float(w)/h\n",
    "        print(aspectRatio)\n",
    "        \n",
    "        if aspectRatio >= 0.95 and aspectRatio <= 1.05:\n",
    "                cv.putText(img, \"Square\", (x, y), cv.FONT_HERSHEY_COMPLEX, 0.5, (0, 0, 0))\n",
    "        else: \n",
    "                cv.putText(img, \"Rectangle \", (x, y), cv.FONT_HERSHEY_COMPLEX, 0.5, (0, 0, 0))\n",
    "                \n",
    "    elif len(approx) == 5 :\n",
    "        cv.putText(img, \"Pentagon\", (x, y), cv.FONT_HERSHEY_COMPLEX, 0.5, (0, 0, 0))\n",
    "        \n",
    "    elif len(approx) == 10 :\n",
    "        cv.putText(img, \"Star\", (x, y), cv.FONT_HERSHEY_COMPLEX, 0.5, (0, 0, 0))\n",
    "        \n",
    "    else:\n",
    "        cv.putText(img, \"Circle\", (x, y), cv.FONT_HERSHEY_COMPLEX, 0.5, (0, 0, 0))\n",
    "\n",
    "\n",
    "\n",
    "\n",
    "\n",
    "cv.imshow('unnamed', img)\n",
    "\n",
    "    \n",
    "\n",
    "\n",
    "cv.waitKey(0)\n",
    "cv.destroyAllWindows()"
   ]
  },
  {
   "cell_type": "code",
   "execution_count": null,
   "metadata": {},
   "outputs": [],
   "source": []
  },
  {
   "cell_type": "code",
   "execution_count": null,
   "metadata": {},
   "outputs": [],
   "source": []
  }
 ],
 "metadata": {
  "kernelspec": {
   "display_name": "Python 3",
   "language": "python",
   "name": "python3"
  },
  "language_info": {
   "codemirror_mode": {
    "name": "ipython",
    "version": 3
   },
   "file_extension": ".py",
   "mimetype": "text/x-python",
   "name": "python",
   "nbconvert_exporter": "python",
   "pygments_lexer": "ipython3",
   "version": "3.7.3"
  }
 },
 "nbformat": 4,
 "nbformat_minor": 2
}
