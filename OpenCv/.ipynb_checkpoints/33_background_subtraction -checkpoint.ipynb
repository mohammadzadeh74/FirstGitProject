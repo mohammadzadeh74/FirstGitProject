{
 "cells": [
  {
   "cell_type": "code",
   "execution_count": 2,
   "metadata": {},
   "outputs": [],
   "source": [
    "import numpy as np\n",
    "import cv2 as cv"
   ]
  },
  {
   "cell_type": "code",
   "execution_count": 13,
   "metadata": {},
   "outputs": [],
   "source": [
    "cap = cv.VideoCapture('vtest.avi')\n",
    "# (GMC) kernel = cv.getStructuringElement(cv.MORPH_ELLIPSE, (3,3))\n",
    "\n",
    "# fgbg = cv.bgsegm.createBackgroundSubtractorMOG()\n",
    "# fgbg = cv.createBackgroundSubtractorMOG2(detectShadows = True)\n",
    "# (GMC) fgbg = cv.bgsegm.createBackgroundSubtractorGMG()\n",
    "\n",
    "fgbg = cv.createBackgroundSubtractorKNN(detectShadows = False)\n",
    "\n",
    "\n",
    "while True:\n",
    "    \n",
    "    ret, frame = cap.read()\n",
    "    if frame is None:\n",
    "        break\n",
    "        \n",
    "    fgmask = fgbg.apply(frame)\n",
    "    # (GMC) fgmask = cv.morphologyEx(fgmask, cv.MORPH_OPEN,kernel )\n",
    "    \n",
    "    cv.imshow('feed', frame)\n",
    "    cv.imshow('FG MAsk', fgmask)\n",
    "\n",
    "    \n",
    "   \n",
    "           \n",
    "    if cv.waitKey(40) == 27:\n",
    "         break\n",
    "    \n",
    "cap.release()\n",
    "cv.destroyAllWindows()"
   ]
  },
  {
   "cell_type": "code",
   "execution_count": null,
   "metadata": {},
   "outputs": [],
   "source": []
  },
  {
   "cell_type": "code",
   "execution_count": null,
   "metadata": {},
   "outputs": [],
   "source": []
  }
 ],
 "metadata": {
  "kernelspec": {
   "display_name": "Python 3",
   "language": "python",
   "name": "python3"
  },
  "language_info": {
   "codemirror_mode": {
    "name": "ipython",
    "version": 3
   },
   "file_extension": ".py",
   "mimetype": "text/x-python",
   "name": "python",
   "nbconvert_exporter": "python",
   "pygments_lexer": "ipython3",
   "version": "3.7.3"
  }
 },
 "nbformat": 4,
 "nbformat_minor": 2
}
