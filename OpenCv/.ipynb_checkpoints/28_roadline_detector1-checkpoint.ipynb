{
 "cells": [
  {
   "cell_type": "code",
   "execution_count": 1,
   "metadata": {},
   "outputs": [],
   "source": [
    "import cv2 as cv\n",
    "import numpy as np\n",
    "from matplotlib import pyplot as plt"
   ]
  },
  {
   "cell_type": "code",
   "execution_count": 24,
   "metadata": {},
   "outputs": [],
   "source": [
    "def region_of_interest(img, vertices):\n",
    "    mask = np.zeros_like(img)\n",
    "#     channel_count = img.shape[2]\n",
    "    match_mask_color = 255    #,) * channel_count\n",
    "    cv.fillPoly(mask, vertices, match_mask_color)\n",
    "    masked_img = cv.bitwise_and(img, mask)\n",
    "    return masked_img\n",
    "\n",
    "def drow_the_lines(img, lines):\n",
    "    img = np.copy(img) \n",
    "    blank_image = np.zeros((img.shape[0],img.shape[1], 3), dtype= np.uint8)\n",
    "    \n",
    "    for line in lines :\n",
    "        for x1, y1, x2, y2 in line :\n",
    "            cv.line(blank_image, (x1, y1), (x2, y2), (0, 255, 0), thickness = 3)\n",
    "            \n",
    "    img = cv.addWeighted(img, 0.8, blank_image, 1, 0.0)\n",
    "    return img\n",
    "\n",
    "# img = cv.imread('lena.jpg')\n",
    "# img = cv.cvtColor(img, cv.COLOR_BGR2RGB)\n",
    "\n",
    "\n",
    "def process(img):\n",
    "    \n",
    "    height = img.shape[0]\n",
    "    width = img.shape[1]\n",
    "\n",
    "    region_of_intrest_vertices = [\n",
    "\n",
    "        (0,height),\n",
    "        (width/2, height/2),\n",
    "        (width, height)\n",
    "\n",
    "    ]\n",
    "\n",
    "    gray_image = cv.cvtColor(img, cv.COLOR_RGB2GRAY)\n",
    "    canny_image = cv.Canny(gray_image, 100, 200, )\n",
    "    cropped_img = region_of_interest(canny_image, np.array([region_of_intrest_vertices], np.int32))\n",
    "\n",
    "    lines = cv.HoughLinesP(cropped_img, rho = 2, theta = np.pi/180, threshold = 50, lines = np.array( [] ), minLineLength = 40\n",
    "                           , maxLineGap=100)\n",
    "\n",
    "    image_with_lines = drow_the_lines(img, lines)\n",
    "    return image_with_lines\n",
    "\n",
    "cap = cv.VideoCapture('vtest.avi')\n",
    "while (cap.isOpened()):\n",
    "    ret, frame = cap.read()\n",
    "    frame = process(frame)\n",
    "    cv.imshow('frame', frame)\n",
    "    \n",
    "    if cv.waitKey(1) & 0XFF == ord('q'):\n",
    "        break\n",
    "        \n",
    "cap.release()        \n",
    "cv.destroyAllWindows()"
   ]
  },
  {
   "cell_type": "code",
   "execution_count": null,
   "metadata": {},
   "outputs": [],
   "source": []
  },
  {
   "cell_type": "code",
   "execution_count": null,
   "metadata": {},
   "outputs": [],
   "source": []
  }
 ],
 "metadata": {
  "kernelspec": {
   "display_name": "Python 3",
   "language": "python",
   "name": "python3"
  },
  "language_info": {
   "codemirror_mode": {
    "name": "ipython",
    "version": 3
   },
   "file_extension": ".py",
   "mimetype": "text/x-python",
   "name": "python",
   "nbconvert_exporter": "python",
   "pygments_lexer": "ipython3",
   "version": "3.7.3"
  }
 },
 "nbformat": 4,
 "nbformat_minor": 2
}
