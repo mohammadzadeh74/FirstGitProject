{
 "cells": [
  {
   "cell_type": "code",
   "execution_count": 11,
   "metadata": {},
   "outputs": [
    {
     "name": "stdout",
     "output_type": "stream",
     "text": [
      "enter culumn 1:104\n",
      "enter row 1:2015\n",
      "left 7 6\n"
     ]
    }
   ],
   "source": [
    "culumn=int(input(\"enter culumn 1:10\"))\n",
    "row=int(input(\"enter row 1:20\"))\n",
    "\n",
    "if row<=10:\n",
    "    direction=\"right\"\n",
    "else:\n",
    "    direction=\"left\"\n",
    "    row = 21- row \n",
    "    \n",
    "\n",
    "print(direction+\" \"+str(11-culumn)+\" \"+str(row))"
   ]
  },
  {
   "cell_type": "code",
   "execution_count": null,
   "metadata": {},
   "outputs": [],
   "source": []
  },
  {
   "cell_type": "code",
   "execution_count": null,
   "metadata": {},
   "outputs": [],
   "source": []
  }
 ],
 "metadata": {
  "kernelspec": {
   "display_name": "Python 3",
   "language": "python",
   "name": "python3"
  },
  "language_info": {
   "codemirror_mode": {
    "name": "ipython",
    "version": 3
   },
   "file_extension": ".py",
   "mimetype": "text/x-python",
   "name": "python",
   "nbconvert_exporter": "python",
   "pygments_lexer": "ipython3",
   "version": "3.7.3"
  }
 },
 "nbformat": 4,
 "nbformat_minor": 2
}
