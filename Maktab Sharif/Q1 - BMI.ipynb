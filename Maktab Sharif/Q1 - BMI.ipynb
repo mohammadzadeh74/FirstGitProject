{
 "cells": [
  {
   "cell_type": "code",
   "execution_count": 4,
   "metadata": {},
   "outputs": [
    {
     "name": "stdout",
     "output_type": "stream",
     "text": [
      "Enter height in meters: 1.9\n",
      "Enter weight in kg: 85\n",
      "Your BMI is: 23.55 and you are: Normal\n"
     ]
    }
   ],
   "source": [
    "height = float(input(\"Enter height in meters: \"))\n",
    " \n",
    "weight = float(input(\"Enter weight in kg: \"))\n",
    " \n",
    "bmi = weight/(height**2) \n",
    "bmi = round(bmi,2)\n",
    " \n",
    "print(\"Your BMI is: {0} and you are: \".format(bmi), end='')\n",
    " \n",
    "\n",
    " \n",
    "if ( bmi >= 16 and bmi < 18.5):\n",
    "   print(\"underweight\")\n",
    " \n",
    "elif ( bmi >= 18.5 and bmi < 25):\n",
    "   print(\"Normal\")\n",
    " \n",
    "elif ( bmi >= 25 and bmi < 30):\n",
    "   print(\"Overweight\")\n",
    " \n",
    "elif ( bmi >=30):\n",
    "   print(\"Obese\")"
   ]
  },
  {
   "cell_type": "code",
   "execution_count": null,
   "metadata": {},
   "outputs": [],
   "source": []
  }
 ],
 "metadata": {
  "kernelspec": {
   "display_name": "Python 3",
   "language": "python",
   "name": "python3"
  },
  "language_info": {
   "codemirror_mode": {
    "name": "ipython",
    "version": 3
   },
   "file_extension": ".py",
   "mimetype": "text/x-python",
   "name": "python",
   "nbconvert_exporter": "python",
   "pygments_lexer": "ipython3",
   "version": "3.7.3"
  }
 },
 "nbformat": 4,
 "nbformat_minor": 2
}
