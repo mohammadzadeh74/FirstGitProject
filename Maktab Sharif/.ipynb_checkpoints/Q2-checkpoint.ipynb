{
 "cells": [
  {
   "cell_type": "code",
   "execution_count": 1,
   "metadata": {},
   "outputs": [
    {
     "name": "stdout",
     "output_type": "stream",
     "text": [
      "day of your birth : 5\n",
      "type your favorite number between 0 and 9 : 4\n",
      "The factorial of  is : 120\n",
      "['1', '2', '0']\n"
     ]
    },
    {
     "data": {
      "text/plain": [
       "0"
      ]
     },
     "execution_count": 1,
     "metadata": {},
     "output_type": "execute_result"
    }
   ],
   "source": [
    "day_of_birth =int(input ('day of your birth : '))\n",
    "fav_number = int(input ('type your favorite number between 0 and 9 : '))\n",
    "\n",
    "\n",
    "fact = 1\n",
    "  \n",
    "for i in range(1,day_of_birth +1): \n",
    "    fact = fact * i \n",
    "      \n",
    "print (\"The factorial of  is : \",end=\"\") \n",
    "print(fact)\n",
    "fact = list(str(fact))\n",
    "print(fact)\n",
    "fact.count(str(fav_number))"
   ]
  },
  {
   "cell_type": "code",
   "execution_count": 6,
   "metadata": {},
   "outputs": [],
   "source": [
    "a =2"
   ]
  },
  {
   "cell_type": "markdown",
   "metadata": {},
   "source": [
    "###### "
   ]
  },
  {
   "cell_type": "code",
   "execution_count": null,
   "metadata": {},
   "outputs": [],
   "source": []
  }
 ],
 "metadata": {
  "kernelspec": {
   "display_name": "Python 3",
   "language": "python",
   "name": "python3"
  },
  "language_info": {
   "codemirror_mode": {
    "name": "ipython",
    "version": 3
   },
   "file_extension": ".py",
   "mimetype": "text/x-python",
   "name": "python",
   "nbconvert_exporter": "python",
   "pygments_lexer": "ipython3",
   "version": "3.7.3"
  }
 },
 "nbformat": 4,
 "nbformat_minor": 2
}
