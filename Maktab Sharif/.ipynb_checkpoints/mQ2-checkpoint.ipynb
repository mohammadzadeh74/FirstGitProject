{
 "cells": [
  {
   "cell_type": "code",
   "execution_count": 43,
   "metadata": {},
   "outputs": [
    {
     "name": "stdout",
     "output_type": "stream",
     "text": [
      "entr ur num11\n",
      "[[  1.   2.   3.   4.   5.   6.   7.   8.   9.  10.  11.]\n",
      " [  2.   4.   6.   8.  10.  12.  14.  16.  18.  20.  22.]\n",
      " [  3.   6.   9.  12.  15.  18.  21.  24.  27.  30.  33.]\n",
      " [  4.   8.  12.  16.  20.  24.  28.  32.  36.  40.  44.]\n",
      " [  5.  10.  15.  20.  25.  30.  35.  40.  45.  50.  55.]\n",
      " [  6.  12.  18.  24.  30.  36.  42.  48.  54.  60.  66.]\n",
      " [  7.  14.  21.  28.  35.  42.  49.  56.  63.  70.  77.]\n",
      " [  8.  16.  24.  32.  40.  48.  56.  64.  72.  80.  88.]\n",
      " [  9.  18.  27.  36.  45.  54.  63.  72.  81.  90.  99.]\n",
      " [ 10.  20.  30.  40.  50.  60.  70.  80.  90. 100. 110.]\n",
      " [ 11.  22.  33.  44.  55.  66.  77.  88.  99. 110. 121.]]\n"
     ]
    }
   ],
   "source": [
    "import numpy as np \n",
    "\n",
    "a = int(input('entr ur num'))\n",
    "a_ = np.zeros((a,a))\n",
    "c= 1\n",
    "\n",
    "for i in range(len(a_)):\n",
    "    for j in range(len(a_)):\n",
    "            a_[i,j] = (i+1)*(j+1)\n",
    "         \n",
    "print(a_)          "
   ]
  },
  {
   "cell_type": "code",
   "execution_count": 12,
   "metadata": {},
   "outputs": [
    {
     "name": "stdout",
     "output_type": "stream",
     "text": [
      "3\n"
     ]
    }
   ],
   "source": [
    "a = [1,2,3]\n",
    "b= 3\n",
    "print(a[0]*b)"
   ]
  },
  {
   "cell_type": "code",
   "execution_count": 29,
   "metadata": {},
   "outputs": [
    {
     "data": {
      "text/plain": [
       "3"
      ]
     },
     "execution_count": 29,
     "metadata": {},
     "output_type": "execute_result"
    }
   ],
   "source": [
    "len(a_)"
   ]
  },
  {
   "cell_type": "code",
   "execution_count": 32,
   "metadata": {},
   "outputs": [
    {
     "data": {
      "text/plain": [
       "0.0"
      ]
     },
     "execution_count": 32,
     "metadata": {},
     "output_type": "execute_result"
    }
   ],
   "source": [
    "a_[1,1]"
   ]
  },
  {
   "cell_type": "code",
   "execution_count": null,
   "metadata": {},
   "outputs": [],
   "source": []
  }
 ],
 "metadata": {
  "kernelspec": {
   "display_name": "Python 3",
   "language": "python",
   "name": "python3"
  },
  "language_info": {
   "codemirror_mode": {
    "name": "ipython",
    "version": 3
   },
   "file_extension": ".py",
   "mimetype": "text/x-python",
   "name": "python",
   "nbconvert_exporter": "python",
   "pygments_lexer": "ipython3",
   "version": "3.7.3"
  }
 },
 "nbformat": 4,
 "nbformat_minor": 2
}
