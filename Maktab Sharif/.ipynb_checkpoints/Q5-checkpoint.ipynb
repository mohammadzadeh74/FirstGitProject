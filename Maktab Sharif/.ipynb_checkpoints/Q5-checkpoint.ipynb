{
 "cells": [
  {
   "cell_type": "code",
   "execution_count": 57,
   "metadata": {},
   "outputs": [
    {
     "name": "stdout",
     "output_type": "stream",
     "text": [
      "number of districtions3\n",
      "number of Trips3\n",
      "entr cost from districtions1\n",
      "entr cost from districtions50\n",
      "entr cost from districtions66\n",
      "entr cost from districtions72\n",
      "entr cost from districtions1\n",
      "entr cost from districtions12\n",
      "entr cost from districtions91\n",
      "entr cost from districtions29\n",
      "entr cost from districtions1\n",
      "entr your travel from what distiction to what distrioction1\n",
      "entr your travel from what distiction to what distrioction3\n",
      "entr your travel from what distiction to what distrioction2\n",
      "entr your travel from what distiction to what distrioction3\n",
      "entr your travel from what distiction to what distrioction3\n",
      "entr your travel from what distiction to what distrioction1\n"
     ]
    }
   ],
   "source": [
    "import numpy as np\n",
    "total_travel_costs = 0\n",
    "\n",
    "N = int(input('number of districtions'))\n",
    "M = int(input('number of Trips'))\n",
    "\n",
    "costs = np.zeros((N,N))\n",
    "\n",
    "for i in range(N):\n",
    "    for j in range(N):\n",
    "        costs[i,j] = int(input('entr cost from districtions'))\n",
    "        \n",
    "trips = np.zeros((M,2))\n",
    "\n",
    "for i in range (M):\n",
    "    for j in range(2):\n",
    "         trips[i,j] = int(input('entr your travel from what distiction to what distrioction'))"
   ]
  },
  {
   "cell_type": "code",
   "execution_count": 58,
   "metadata": {},
   "outputs": [
    {
     "name": "stdout",
     "output_type": "stream",
     "text": [
      "169.0\n"
     ]
    }
   ],
   "source": [
    "\n",
    "for i  in range(M):\n",
    "    a = int(trips[i,0])\n",
    "    b = int(trips[i,1])\n",
    "    total_travel_costs += costs[a-1,b-1]\n",
    "   \n",
    "    \n",
    "print(total_travel_costs)    "
   ]
  },
  {
   "cell_type": "code",
   "execution_count": null,
   "metadata": {},
   "outputs": [],
   "source": []
  },
  {
   "cell_type": "code",
   "execution_count": null,
   "metadata": {},
   "outputs": [],
   "source": []
  }
 ],
 "metadata": {
  "kernelspec": {
   "display_name": "Python 3",
   "language": "python",
   "name": "python3"
  },
  "language_info": {
   "codemirror_mode": {
    "name": "ipython",
    "version": 3
   },
   "file_extension": ".py",
   "mimetype": "text/x-python",
   "name": "python",
   "nbconvert_exporter": "python",
   "pygments_lexer": "ipython3",
   "version": "3.7.3"
  }
 },
 "nbformat": 4,
 "nbformat_minor": 2
}
