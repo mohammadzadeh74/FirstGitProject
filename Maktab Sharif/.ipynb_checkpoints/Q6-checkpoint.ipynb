{
 "cells": [
  {
   "cell_type": "code",
   "execution_count": 42,
   "metadata": {},
   "outputs": [
    {
     "name": "stdout",
     "output_type": "stream",
     "text": [
      "write your word here: holabi\n",
      "oolabi\n",
      "lolabi\n",
      "lllabi\n",
      "allabi\n",
      "aalabi\n",
      "aaaabi\n",
      "baaabi\n",
      "bbaabi\n",
      "bbbabi\n",
      "bbbbbi\n",
      "ibbbbi\n",
      "iibbbi\n",
      "iiibbi\n",
      "iiiibi\n",
      "iiiiii\n"
     ]
    }
   ],
   "source": [
    "word=input(\"write your word here: \")\n",
    "word=list(word)\n",
    "\n",
    "\n",
    "for i in range(len(word)) :\n",
    "    for j in range(i):\n",
    "        word[j]= word[i]\n",
    "        print(\"\".join(word))\n",
    "    "
   ]
  },
  {
   "cell_type": "code",
   "execution_count": 33,
   "metadata": {},
   "outputs": [
    {
     "data": {
      "text/plain": [
       "'hellow'"
      ]
     },
     "execution_count": 33,
     "metadata": {},
     "output_type": "execute_result"
    }
   ],
   "source": [
    "word"
   ]
  },
  {
   "cell_type": "code",
   "execution_count": null,
   "metadata": {},
   "outputs": [],
   "source": []
  }
 ],
 "metadata": {
  "kernelspec": {
   "display_name": "Python 3",
   "language": "python",
   "name": "python3"
  },
  "language_info": {
   "codemirror_mode": {
    "name": "ipython",
    "version": 3
   },
   "file_extension": ".py",
   "mimetype": "text/x-python",
   "name": "python",
   "nbconvert_exporter": "python",
   "pygments_lexer": "ipython3",
   "version": "3.7.3"
  }
 },
 "nbformat": 4,
 "nbformat_minor": 2
}
