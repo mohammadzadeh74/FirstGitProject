{
 "cells": [
  {
   "cell_type": "code",
   "execution_count": 15,
   "metadata": {},
   "outputs": [
    {
     "name": "stdout",
     "output_type": "stream",
     "text": [
      "type your wordh==llow\n",
      "llo\n"
     ]
    }
   ],
   "source": [
    "word=input(\"type your word\")\n",
    "s=list(word)\n",
    "for i in s:\n",
    "        if i=='=':\n",
    "            s[s.index(i)-1]=\"\"\n",
    "            s[s.index(i)]=\"\"\n",
    "            new_word = \"\".join(s)\n",
    "            s = list(new_word)\n",
    "print (\"\".join(s))"
   ]
  },
  {
   "cell_type": "code",
   "execution_count": null,
   "metadata": {},
   "outputs": [],
   "source": []
  },
  {
   "cell_type": "code",
   "execution_count": null,
   "metadata": {},
   "outputs": [],
   "source": []
  }
 ],
 "metadata": {
  "kernelspec": {
   "display_name": "Python 3",
   "language": "python",
   "name": "python3"
  },
  "language_info": {
   "codemirror_mode": {
    "name": "ipython",
    "version": 3
   },
   "file_extension": ".py",
   "mimetype": "text/x-python",
   "name": "python",
   "nbconvert_exporter": "python",
   "pygments_lexer": "ipython3",
   "version": "3.7.3"
  }
 },
 "nbformat": 4,
 "nbformat_minor": 2
}
