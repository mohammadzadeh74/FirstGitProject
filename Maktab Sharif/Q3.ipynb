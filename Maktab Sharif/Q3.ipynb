{
 "cells": [
  {
   "cell_type": "code",
   "execution_count": 1,
   "metadata": {},
   "outputs": [
    {
     "name": "stdout",
     "output_type": "stream",
     "text": [
      "enter of number of your words: 3\n",
      "please enter your word: i \n",
      "please enter your word: am\n",
      "please enter your word: student\n",
      "student am i \n"
     ]
    }
   ],
   "source": [
    "number=input(\"enter of number of your words: \")\n",
    "number=int(number)\n",
    "m=[]\n",
    "for i in range(number):\n",
    "        word=input(\"please enter your word: \")\n",
    "        m.append(word)\n",
    "m=m[::-1]\n",
    "print(\" \".join(m)) \"\""
   ]
  },
  {
   "cell_type": "code",
   "execution_count": null,
   "metadata": {},
   "outputs": [],
   "source": []
  }
 ],
 "metadata": {
  "kernelspec": {
   "display_name": "Python 3",
   "language": "python",
   "name": "python3"
  },
  "language_info": {
   "codemirror_mode": {
    "name": "ipython",
    "version": 3
   },
   "file_extension": ".py",
   "mimetype": "text/x-python",
   "name": "python",
   "nbconvert_exporter": "python",
   "pygments_lexer": "ipython3",
   "version": "3.7.3"
  }
 },
 "nbformat": 4,
 "nbformat_minor": 2
}
